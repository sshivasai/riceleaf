{
 "cells": [
  {
   "cell_type": "code",
   "execution_count": 1,
   "id": "43354e84",
   "metadata": {},
   "outputs": [],
   "source": [
    "from tensorflow.keras.preprocessing.image import ImageDataGenerator,img_to_array,load_img"
   ]
  },
  {
   "cell_type": "code",
   "execution_count": 2,
   "id": "2a621618",
   "metadata": {},
   "outputs": [],
   "source": [
    "data_gen = ImageDataGenerator(rotation_range=40,\n",
    "                             width_shift_range=0.2,\n",
    "                             height_shift_range=0.2,\n",
    "                             shear_range=0.2,\n",
    "                             zoom_range=0.2,\n",
    "                             horizontal_flip=True,\n",
    "                             vertical_flip=True,\n",
    "                             fill_mode =\"nearest\")"
   ]
  },
  {
   "cell_type": "code",
   "execution_count": 3,
   "id": "98ec4a49",
   "metadata": {},
   "outputs": [],
   "source": [
    "valid_gen = ImageDataGenerator(rotation_range=40,\n",
    "                             shear_range=0.2,\n",
    "                             zoom_range=0.2)"
   ]
  },
  {
   "cell_type": "code",
   "execution_count": 13,
   "id": "05ac4046",
   "metadata": {},
   "outputs": [],
   "source": [
    "for i in range(365,705):\n",
    "    file_path =\"Data/train/Bacterial leaf blight/DSC_0\"+str(i)+\".JPG\"\n",
    "    try:\n",
    "        img = load_img(file_path)\n",
    "        img = img.resize((256,256))\n",
    "        img = img_to_array(img)\n",
    "        img = img.reshape((1,)+img.shape)\n",
    "        j = 0\n",
    "        for batch in data_gen.flow(img,batch_size=1,\n",
    "                                  save_to_dir=\"Data/validation/Bacterial leaf blight/\",\n",
    "                                   save_prefix=\"leaf_blight1\",\n",
    "                                   save_format=\"jpg\"\n",
    "                                  ):\n",
    "            j +=1\n",
    "            if j>1:\n",
    "                break;\n",
    "    except:\n",
    "        continue;\n",
    "        "
   ]
  },
  {
   "cell_type": "code",
   "execution_count": 12,
   "id": "df79a2cb",
   "metadata": {},
   "outputs": [],
   "source": [
    "for i in range(99,395):\n",
    "    file_path =\"Data/train/Brown spot/DSC_0\"+str(i)+\".JPG\"\n",
    "    try:\n",
    "        img = load_img(file_path)\n",
    "        img = img.resize((256,256))\n",
    "        img = img_to_array(img)\n",
    "        img = img.reshape((1,)+img.shape)\n",
    "        j = 0\n",
    "        for batch in data_gen.flow(img,batch_size=1,\n",
    "                                  save_to_dir=\"Data/validation/Brown spot/\",\n",
    "                                   save_prefix=\"brown_spot1\",\n",
    "                                   save_format=\"jpg\"\n",
    "                                  ):\n",
    "            j +=1\n",
    "            if j>1:\n",
    "                break;\n",
    "    except:\n",
    "        continue;\n",
    "        "
   ]
  },
  {
   "cell_type": "code",
   "execution_count": 11,
   "id": "52fa37fe",
   "metadata": {},
   "outputs": [],
   "source": [
    "for i in range(292,520):\n",
    "    file_path =\"Data/train/Leaf smut/DSC_0\"+str(i)+\".JPG\"\n",
    "    try:\n",
    "        img = load_img(file_path)\n",
    "        img = img.resize((256,256))\n",
    "        img = img_to_array(img)\n",
    "        img = img.reshape((1,)+img.shape)\n",
    "        j = 0\n",
    "        for batch in data_gen.flow(img,batch_size=1,\n",
    "                                  save_to_dir=\"Data/validation/Leaf smut/\",\n",
    "                                   save_prefix=\"leaf_smut\",\n",
    "                                   save_format=\"jpg\"\n",
    "                                  ):\n",
    "            j +=1\n",
    "            if j>1:\n",
    "                break;\n",
    "    except:\n",
    "        continue;\n",
    "        "
   ]
  },
  {
   "cell_type": "code",
   "execution_count": null,
   "id": "0d6b7f54",
   "metadata": {},
   "outputs": [],
   "source": []
  },
  {
   "cell_type": "code",
   "execution_count": null,
   "id": "084cf54d",
   "metadata": {},
   "outputs": [],
   "source": []
  }
 ],
 "metadata": {
  "kernelspec": {
   "display_name": "Python 3",
   "language": "python",
   "name": "python3"
  },
  "language_info": {
   "codemirror_mode": {
    "name": "ipython",
    "version": 3
   },
   "file_extension": ".py",
   "mimetype": "text/x-python",
   "name": "python",
   "nbconvert_exporter": "python",
   "pygments_lexer": "ipython3",
   "version": "3.8.0"
  }
 },
 "nbformat": 4,
 "nbformat_minor": 5
}
